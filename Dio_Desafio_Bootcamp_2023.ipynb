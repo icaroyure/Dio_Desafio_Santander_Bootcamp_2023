{
  "cells": [
    {
      "cell_type": "markdown",
      "metadata": {
        "id": "view-in-github",
        "colab_type": "text"
      },
      "source": [
        "<a href=\"https://colab.research.google.com/github/icaroyure/Dio_Desafio_Santander_Bootcamp_2023/blob/main/Dio_Desafio_Bootcamp_2023.ipynb\" target=\"_parent\"><img src=\"https://colab.research.google.com/assets/colab-badge.svg\" alt=\"Open In Colab\"/></a>"
      ]
    },
    {
      "cell_type": "markdown",
      "id": "ecda0ac8",
      "metadata": {
        "id": "ecda0ac8"
      },
      "source": [
        "## Entendendo o Projeto"
      ]
    },
    {
      "cell_type": "markdown",
      "source": [
        "#### Este exercício tem como objetivo finalizar o módulo de manipulação e análise de dados do Bootcamp Santander 2023.\n",
        "Apesar de simples em sua confecção, a finalidade maior deste desafio é demonstrar o potencial da linguagem python para todo o processo que envolve a ETL (Extract, Transform and Load).\n",
        "\n",
        "Pensando nisso fiz uma análise a partir de dados fictícios de uma Loja de Discos especializada em vendas de Música Brasileira e Jazz/Hip-Hop. Apesar de simples manipulações e visualizações já é possível vislumbar um leque de possibilidades sobre as informações dispostas acerca dos dados analisados."
      ],
      "metadata": {
        "id": "xACqKaLJst4J"
      },
      "id": "xACqKaLJst4J"
    },
    {
      "cell_type": "markdown",
      "id": "8ef9ef4a",
      "metadata": {
        "id": "8ef9ef4a"
      },
      "source": [
        "### Extract"
      ]
    },
    {
      "cell_type": "code",
      "execution_count": null,
      "id": "c73af635",
      "metadata": {
        "id": "c73af635",
        "outputId": "0623e8a0-ab62-45d4-8e6f-8b4eee7004e3"
      },
      "outputs": [
        {
          "data": {
            "text/html": [
              "<div>\n",
              "<style scoped>\n",
              "    .dataframe tbody tr th:only-of-type {\n",
              "        vertical-align: middle;\n",
              "    }\n",
              "\n",
              "    .dataframe tbody tr th {\n",
              "        vertical-align: top;\n",
              "    }\n",
              "\n",
              "    .dataframe thead th {\n",
              "        text-align: right;\n",
              "    }\n",
              "</style>\n",
              "<table border=\"1\" class=\"dataframe\">\n",
              "  <thead>\n",
              "    <tr style=\"text-align: right;\">\n",
              "      <th></th>\n",
              "      <th>id_cliente</th>\n",
              "      <th>nome_cliente</th>\n",
              "      <th>telefone</th>\n",
              "      <th>total_consumido</th>\n",
              "      <th>ticket_medio</th>\n",
              "      <th>data_ultima_compra</th>\n",
              "      <th>consumiu_musica_brasileira</th>\n",
              "      <th>consumiu_jazz_hip_hop_internacional</th>\n",
              "      <th>categoria_produto</th>\n",
              "    </tr>\n",
              "  </thead>\n",
              "  <tbody>\n",
              "    <tr>\n",
              "      <th>0</th>\n",
              "      <td>1</td>\n",
              "      <td>Colleen Berry</td>\n",
              "      <td>124883108</td>\n",
              "      <td>266.106728</td>\n",
              "      <td>249.27</td>\n",
              "      <td>2023-02-10</td>\n",
              "      <td>Não</td>\n",
              "      <td>Sim</td>\n",
              "      <td>Jazz/Hip Hop Internacional</td>\n",
              "    </tr>\n",
              "    <tr>\n",
              "      <th>1</th>\n",
              "      <td>2</td>\n",
              "      <td>Katherine Jones</td>\n",
              "      <td>753514460</td>\n",
              "      <td>390.769899</td>\n",
              "      <td>79.71</td>\n",
              "      <td>2023-03-19</td>\n",
              "      <td>Não</td>\n",
              "      <td>Não</td>\n",
              "      <td>Outros</td>\n",
              "    </tr>\n",
              "    <tr>\n",
              "      <th>2</th>\n",
              "      <td>3</td>\n",
              "      <td>Courtney Smith</td>\n",
              "      <td>304192223</td>\n",
              "      <td>258.407721</td>\n",
              "      <td>31.31</td>\n",
              "      <td>2023-07-07</td>\n",
              "      <td>Não</td>\n",
              "      <td>Sim</td>\n",
              "      <td>Jazz/Hip Hop Internacional</td>\n",
              "    </tr>\n",
              "    <tr>\n",
              "      <th>3</th>\n",
              "      <td>4</td>\n",
              "      <td>Martin Scott</td>\n",
              "      <td>446055587</td>\n",
              "      <td>34.260506</td>\n",
              "      <td>5.21</td>\n",
              "      <td>2023-01-02</td>\n",
              "      <td>Não</td>\n",
              "      <td>Não</td>\n",
              "      <td>Outros</td>\n",
              "    </tr>\n",
              "    <tr>\n",
              "      <th>4</th>\n",
              "      <td>5</td>\n",
              "      <td>Mr. Cody Gutierrez</td>\n",
              "      <td>949365886</td>\n",
              "      <td>342.769470</td>\n",
              "      <td>112.75</td>\n",
              "      <td>2023-10-02</td>\n",
              "      <td>Não</td>\n",
              "      <td>Sim</td>\n",
              "      <td>Jazz/Hip Hop Internacional</td>\n",
              "    </tr>\n",
              "  </tbody>\n",
              "</table>\n",
              "</div>"
            ],
            "text/plain": [
              "   id_cliente        nome_cliente   telefone  total_consumido  ticket_medio  \\\n",
              "0           1       Colleen Berry  124883108       266.106728        249.27   \n",
              "1           2     Katherine Jones  753514460       390.769899         79.71   \n",
              "2           3      Courtney Smith  304192223       258.407721         31.31   \n",
              "3           4        Martin Scott  446055587        34.260506          5.21   \n",
              "4           5  Mr. Cody Gutierrez  949365886       342.769470        112.75   \n",
              "\n",
              "  data_ultima_compra consumiu_musica_brasileira  \\\n",
              "0         2023-02-10                        Não   \n",
              "1         2023-03-19                        Não   \n",
              "2         2023-07-07                        Não   \n",
              "3         2023-01-02                        Não   \n",
              "4         2023-10-02                        Não   \n",
              "\n",
              "  consumiu_jazz_hip_hop_internacional           categoria_produto  \n",
              "0                                 Sim  Jazz/Hip Hop Internacional  \n",
              "1                                 Não                      Outros  \n",
              "2                                 Sim  Jazz/Hip Hop Internacional  \n",
              "3                                 Não                      Outros  \n",
              "4                                 Sim  Jazz/Hip Hop Internacional  "
            ]
          },
          "execution_count": 8,
          "metadata": {},
          "output_type": "execute_result"
        }
      ],
      "source": [
        "#importando biblioteca\n",
        "\n",
        "import pandas as pd\n",
        "\n",
        "loja_discos = pd.read_csv('loja_discos.csv', encoding=\"ISO-8859-1\")\n",
        "\n",
        "#conferindo dataframe gerado\n",
        "loja_discos.head()\n",
        "\n"
      ]
    },
    {
      "cell_type": "code",
      "execution_count": null,
      "id": "f655bd5c",
      "metadata": {
        "id": "f655bd5c"
      },
      "outputs": [],
      "source": []
    },
    {
      "cell_type": "markdown",
      "id": "d6f8649b",
      "metadata": {
        "id": "d6f8649b"
      },
      "source": [
        "### Insert"
      ]
    },
    {
      "cell_type": "code",
      "execution_count": null,
      "id": "bc6cc8dc",
      "metadata": {
        "id": "bc6cc8dc",
        "outputId": "bf02c2fe-ce5b-4ca8-efe4-a58741e8533a"
      },
      "outputs": [
        {
          "name": "stdout",
          "output_type": "stream",
          "text": [
            "Vendas totais por Produto:\n",
            "categoria_produto\n",
            "Jazz/Hip Hop Internacional    2181.379064\n",
            "Música Brasileira             1182.601471\n",
            "Outros                        1313.793277\n",
            "Name: total_consumido, dtype: float64\n",
            "Vendas mensais:\n",
            "Mes\n",
            "1     896.937873\n",
            "2     266.106728\n",
            "3     427.055913\n",
            "4      59.184832\n",
            "5     326.105759\n",
            "6     924.737897\n",
            "7     258.407721\n",
            "8     636.047842\n",
            "9     243.513184\n",
            "10    342.769470\n",
            "12    296.906593\n",
            "Name: total_consumido, dtype: float64\n"
          ]
        }
      ],
      "source": [
        "#Calculando o Total de Vendas por Produto\n",
        "\n",
        "total_vendas_por_categoria = loja_discos.groupby('categoria_produto')['total_consumido'].sum()\n",
        "total_vendas_por_categoria.head()\n",
        "\n",
        "#Extraindo o mês da coluna \"data_ultima_compra\"\n",
        "\n",
        "loja_discos['Mes'] = pd.to_datetime(loja_discos['data_ultima_compra']).dt.month\n",
        "\n",
        "#Calculando o Total de vendas por Mês\n",
        "\n",
        "total_vendas_mes = loja_discos.groupby('Mes')['total_consumido'].sum()\n",
        "\n",
        "#Visualizando os resultados das transformações\n",
        "\n",
        "print('Vendas totais por Produto:')\n",
        "print(total_vendas_por_categoria)\n",
        "\n",
        "print('Vendas mensais:')\n",
        "print(total_vendas_mes)"
      ]
    },
    {
      "cell_type": "markdown",
      "id": "d29d1f27",
      "metadata": {
        "id": "d29d1f27"
      },
      "source": [
        "### Load"
      ]
    },
    {
      "cell_type": "code",
      "execution_count": null,
      "id": "f67b1de7",
      "metadata": {
        "id": "f67b1de7",
        "outputId": "e36bfb68-994a-44d8-e5b5-45a08925b9da"
      },
      "outputs": [
        {
          "data": {
            "image/png": "[encoded data removed]",
            "text/plain": [
              "<Figure size 640x480 with 1 Axes>"
            ]
          },
          "metadata": {},
          "output_type": "display_data"
        }
      ],
      "source": [
        "#Visualizando dados gerados\n",
        "\n",
        "import matplotlib.pyplot as plt\n",
        "\n",
        "# Criando Gráfico de Barras\n",
        "total_vendas_por_categoria.plot(kind='bar')\n",
        "plt.xlabel('Produto')\n",
        "plt.ylabel('Total de Vendas')\n",
        "plt.title('Total de Vendas por Produto')\n",
        "plt.show()\n"
      ]
    },
    {
      "cell_type": "code",
      "execution_count": null,
      "id": "7bbf87b4",
      "metadata": {
        "id": "7bbf87b4",
        "outputId": "fed5cd5b-f4ee-4d1a-d033-fc28f153991c"
      },
      "outputs": [
        {
          "data": {
            "image/png": "[encoded data removed]",
            "text/plain": [
              "<Figure size 640x480 with 1 Axes>"
            ]
          },
          "metadata": {},
          "output_type": "display_data"
        }
      ],
      "source": [
        "#criando segundo gráfico de barras para melhor entendimento dos dados analisados\n",
        "\n",
        "total_vendas_mes.plot(kind='bar')\n",
        "plt.xlabel('Mês')\n",
        "plt.ylabel('Total de Vendas')\n",
        "plt.title('Total de Vendas por Mês')\n",
        "plt.xticks(range(1, 13), ['Jan', 'Fev', 'Mar', 'Abr', 'Mai', 'Jun', 'Jul', 'Ago', 'Set', 'Out', 'Nov', 'Dez'])\n",
        "plt.show()"
      ]
    },
    {
      "cell_type": "code",
      "execution_count": null,
      "id": "f4757ab9",
      "metadata": {
        "id": "f4757ab9"
      },
      "outputs": [],
      "source": []
    }
  ],
  "metadata": {
    "kernelspec": {
      "display_name": "Python 3 (ipykernel)",
      "language": "python",
      "name": "python3"
    },
    "language_info": {
      "codemirror_mode": {
        "name": "ipython",
        "version": 3
      },
      "file_extension": ".py",
      "mimetype": "text/x-python",
      "name": "python",
      "nbconvert_exporter": "python",
      "pygments_lexer": "ipython3",
      "version": "3.10.9"
    },
    "colab": {
      "provenance": [],
      "include_colab_link": true
    }
  },
  "nbformat": 4,
  "nbformat_minor": 5
}