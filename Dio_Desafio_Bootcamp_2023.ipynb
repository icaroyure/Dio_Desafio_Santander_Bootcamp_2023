{
  "cells": [
    {
      "cell_type": "markdown",
      "metadata": {
        "id": "view-in-github",
        "colab_type": "text"
      },
      "source": [
        "<a href=\"https://colab.research.google.com/github/icaroyure/Dio_Desafio_Santander_Bootcamp_2023/blob/main/Dio_Desafio_Bootcamp_2023.ipynb\" target=\"_parent\"><img src=\"https://colab.research.google.com/assets/colab-badge.svg\" alt=\"Open In Colab\"/></a>"
      ]
    },
    {
      "cell_type": "markdown",
      "id": "ecda0ac8",
      "metadata": {
        "id": "ecda0ac8"
      },
      "source": [
        "## Entendendo o Projeto"
      ]
    },
    {
      "cell_type": "markdown",
      "source": [
        "#### Este exercício tem como objetivo finalizar o módulo de manipulação e análise de dados do Bootcamp Santander 2023.\n",
        "Apesar de simples em sua confecção, a finalidade maior deste desafio é demonstrar o potencial da linguagem python para todo o processo que envolve a ETL (Extract, Transform and Load).\n",
        "\n",
        "Pensando nisso fiz uma análise a partir de dados fictícios de uma Loja de Discos especializada em vendas de Música Brasileira e Jazz/Hip-Hop. Apesar de simples manipulações e visualizações já é possível vislumbar um leque de possibilidades sobre as informações dispostas acerca dos dados analisados."
      ],
      "metadata": {
        "id": "xACqKaLJst4J"
      },
      "id": "xACqKaLJst4J"
    },
    {
      "cell_type": "markdown",
      "id": "8ef9ef4a",
      "metadata": {
        "id": "8ef9ef4a"
      },
      "source": [
        "### Extract"
      ]
    },
    {
      "cell_type": "code",
      "execution_count": 2,
      "id": "c73af635",
      "metadata": {
        "id": "c73af635",
        "outputId": "b3c8b899-988b-4aaf-f039-ad7bbfd0b8cc",
        "colab": {
          "base_uri": "https://localhost:8080/",
          "height": 296
        }
      },
      "outputs": [
        {
          "output_type": "execute_result",
          "data": {
            "text/plain": [
              "   id_cliente        nome_cliente   telefone  total_consumido  ticket_medio  \\\n",
              "0           1       Colleen Berry  124883108       266.106728        249.27   \n",
              "1           2     Katherine Jones  753514460       390.769899         79.71   \n",
              "2           3      Courtney Smith  304192223       258.407721         31.31   \n",
              "3           4        Martin Scott  446055587        34.260506          5.21   \n",
              "4           5  Mr. Cody Gutierrez  949365886       342.769470        112.75   \n",
              "\n",
              "  data_ultima_compra consumiu_musica_brasileira  \\\n",
              "0         2023-02-10                        Não   \n",
              "1         2023-03-19                        Não   \n",
              "2         2023-07-07                        Não   \n",
              "3         2023-01-02                        Não   \n",
              "4         2023-10-02                        Não   \n",
              "\n",
              "  consumiu_jazz_hip_hop_internacional           categoria_produto  \n",
              "0                                 Sim  Jazz/Hip Hop Internacional  \n",
              "1                                 Não                      Outros  \n",
              "2                                 Sim  Jazz/Hip Hop Internacional  \n",
              "3                                 Não                      Outros  \n",
              "4                                 Sim  Jazz/Hip Hop Internacional  "
            ],
            "text/html": [
              "\n",
              "  <div id=\"df-6847ac2b-e9c7-4af2-8bdf-d8d4d98feeea\" class=\"colab-df-container\">\n",
              "    <div>\n",
              "<style scoped>\n",
              "    .dataframe tbody tr th:only-of-type {\n",
              "        vertical-align: middle;\n",
              "    }\n",
              "\n",
              "    .dataframe tbody tr th {\n",
              "        vertical-align: top;\n",
              "    }\n",
              "\n",
              "    .dataframe thead th {\n",
              "        text-align: right;\n",
              "    }\n",
              "</style>\n",
              "<table border=\"1\" class=\"dataframe\">\n",
              "  <thead>\n",
              "    <tr style=\"text-align: right;\">\n",
              "      <th></th>\n",
              "      <th>id_cliente</th>\n",
              "      <th>nome_cliente</th>\n",
              "      <th>telefone</th>\n",
              "      <th>total_consumido</th>\n",
              "      <th>ticket_medio</th>\n",
              "      <th>data_ultima_compra</th>\n",
              "      <th>consumiu_musica_brasileira</th>\n",
              "      <th>consumiu_jazz_hip_hop_internacional</th>\n",
              "      <th>categoria_produto</th>\n",
              "    </tr>\n",
              "  </thead>\n",
              "  <tbody>\n",
              "    <tr>\n",
              "      <th>0</th>\n",
              "      <td>1</td>\n",
              "      <td>Colleen Berry</td>\n",
              "      <td>124883108</td>\n",
              "      <td>266.106728</td>\n",
              "      <td>249.27</td>\n",
              "      <td>2023-02-10</td>\n",
              "      <td>Não</td>\n",
              "      <td>Sim</td>\n",
              "      <td>Jazz/Hip Hop Internacional</td>\n",
              "    </tr>\n",
              "    <tr>\n",
              "      <th>1</th>\n",
              "      <td>2</td>\n",
              "      <td>Katherine Jones</td>\n",
              "      <td>753514460</td>\n",
              "      <td>390.769899</td>\n",
              "      <td>79.71</td>\n",
              "      <td>2023-03-19</td>\n",
              "      <td>Não</td>\n",
              "      <td>Não</td>\n",
              "      <td>Outros</td>\n",
              "    </tr>\n",
              "    <tr>\n",
              "      <th>2</th>\n",
              "      <td>3</td>\n",
              "      <td>Courtney Smith</td>\n",
              "      <td>304192223</td>\n",
              "      <td>258.407721</td>\n",
              "      <td>31.31</td>\n",
              "      <td>2023-07-07</td>\n",
              "      <td>Não</td>\n",
              "      <td>Sim</td>\n",
              "      <td>Jazz/Hip Hop Internacional</td>\n",
              "    </tr>\n",
              "    <tr>\n",
              "      <th>3</th>\n",
              "      <td>4</td>\n",
              "      <td>Martin Scott</td>\n",
              "      <td>446055587</td>\n",
              "      <td>34.260506</td>\n",
              "      <td>5.21</td>\n",
              "      <td>2023-01-02</td>\n",
              "      <td>Não</td>\n",
              "      <td>Não</td>\n",
              "      <td>Outros</td>\n",
              "    </tr>\n",
              "    <tr>\n",
              "      <th>4</th>\n",
              "      <td>5</td>\n",
              "      <td>Mr. Cody Gutierrez</td>\n",
              "      <td>949365886</td>\n",
              "      <td>342.769470</td>\n",
              "      <td>112.75</td>\n",
              "      <td>2023-10-02</td>\n",
              "      <td>Não</td>\n",
              "      <td>Sim</td>\n",
              "      <td>Jazz/Hip Hop Internacional</td>\n",
              "    </tr>\n",
              "  </tbody>\n",
              "</table>\n",
              "</div>\n",
              "    <div class=\"colab-df-buttons\">\n",
              "\n",
              "  <div class=\"colab-df-container\">\n",
              "    <button class=\"colab-df-convert\" onclick=\"convertToInteractive('df-6847ac2b-e9c7-4af2-8bdf-d8d4d98feeea')\"\n",
              "            title=\"Convert this dataframe to an interactive table.\"\n",
              "            style=\"display:none;\">\n",
              "\n",
              "  <svg xmlns=\"http://www.w3.org/2000/svg\" height=\"24px\" viewBox=\"0 -960 960 960\">\n",
              "    <path d=\"M120-120v-720h720v720H120Zm60-500h600v-160H180v160Zm220 220h160v-160H400v160Zm0 220h160v-160H400v160ZM180-400h160v-160H180v160Zm440 0h160v-160H620v160ZM180-180h160v-160H180v160Zm440 0h160v-160H620v160Z\"/>\n",
              "  </svg>\n",
              "    </button>\n",
              "\n",
              "  <style>\n",
              "    .colab-df-container {\n",
              "      display:flex;\n",
              "      gap: 12px;\n",
              "    }\n",
              "\n",
              "    .colab-df-convert {\n",
              "      background-color: #E8F0FE;\n",
              "      border: none;\n",
              "      border-radius: 50%;\n",
              "      cursor: pointer;\n",
              "      display: none;\n",
              "      fill: #1967D2;\n",
              "      height: 32px;\n",
              "      padding: 0 0 0 0;\n",
              "      width: 32px;\n",
              "    }\n",
              "\n",
              "    .colab-df-convert:hover {\n",
              "      background-color: #E2EBFA;\n",
              "      box-shadow: 0px 1px 2px rgba(60, 64, 67, 0.3), 0px 1px 3px 1px rgba(60, 64, 67, 0.15);\n",
              "      fill: #174EA6;\n",
              "    }\n",
              "\n",
              "    .colab-df-buttons div {\n",
              "      margin-bottom: 4px;\n",
              "    }\n",
              "\n",
              "    [theme=dark] .colab-df-convert {\n",
              "      background-color: #3B4455;\n",
              "      fill: #D2E3FC;\n",
              "    }\n",
              "\n",
              "    [theme=dark] .colab-df-convert:hover {\n",
              "      background-color: #434B5C;\n",
              "      box-shadow: 0px 1px 3px 1px rgba(0, 0, 0, 0.15);\n",
              "      filter: drop-shadow(0px 1px 2px rgba(0, 0, 0, 0.3));\n",
              "      fill: #FFFFFF;\n",
              "    }\n",
              "  </style>\n",
              "\n",
              "    <script>\n",
              "      const buttonEl =\n",
              "        document.querySelector('#df-6847ac2b-e9c7-4af2-8bdf-d8d4d98feeea button.colab-df-convert');\n",
              "      buttonEl.style.display =\n",
              "        google.colab.kernel.accessAllowed ? 'block' : 'none';\n",
              "\n",
              "      async function convertToInteractive(key) {\n",
              "        const element = document.querySelector('#df-6847ac2b-e9c7-4af2-8bdf-d8d4d98feeea');\n",
              "        const dataTable =\n",
              "          await google.colab.kernel.invokeFunction('convertToInteractive',\n",
              "                                                    [key], {});\n",
              "        if (!dataTable) return;\n",
              "\n",
              "        const docLinkHtml = 'Like what you see? Visit the ' +\n",
              "          '<a target=\"_blank\" href=https://colab.research.google.com/notebooks/data_table.ipynb>data table notebook</a>'\n",
              "          + ' to learn more about interactive tables.';\n",
              "        element.innerHTML = '';\n",
              "        dataTable['output_type'] = 'display_data';\n",
              "        await google.colab.output.renderOutput(dataTable, element);\n",
              "        const docLink = document.createElement('div');\n",
              "        docLink.innerHTML = docLinkHtml;\n",
              "        element.appendChild(docLink);\n",
              "      }\n",
              "    </script>\n",
              "  </div>\n",
              "\n",
              "\n",
              "<div id=\"df-b048cfde-c730-499b-b0f4-9122b02cf7e2\">\n",
              "  <button class=\"colab-df-quickchart\" onclick=\"quickchart('df-b048cfde-c730-499b-b0f4-9122b02cf7e2')\"\n",
              "            title=\"Suggest charts.\"\n",
              "            style=\"display:none;\">\n",
              "\n",
              "<svg xmlns=\"http://www.w3.org/2000/svg\" height=\"24px\"viewBox=\"0 0 24 24\"\n",
              "     width=\"24px\">\n",
              "    <g>\n",
              "        <path d=\"M19 3H5c-1.1 0-2 .9-2 2v14c0 1.1.9 2 2 2h14c1.1 0 2-.9 2-2V5c0-1.1-.9-2-2-2zM9 17H7v-7h2v7zm4 0h-2V7h2v10zm4 0h-2v-4h2v4z\"/>\n",
              "    </g>\n",
              "</svg>\n",
              "  </button>\n",
              "\n",
              "<style>\n",
              "  .colab-df-quickchart {\n",
              "      --bg-color: #E8F0FE;\n",
              "      --fill-color: #1967D2;\n",
              "      --hover-bg-color: #E2EBFA;\n",
              "      --hover-fill-color: #174EA6;\n",
              "      --disabled-fill-color: #AAA;\n",
              "      --disabled-bg-color: #DDD;\n",
              "  }\n",
              "\n",
              "  [theme=dark] .colab-df-quickchart {\n",
              "      --bg-color: #3B4455;\n",
              "      --fill-color: #D2E3FC;\n",
              "      --hover-bg-color: #434B5C;\n",
              "      --hover-fill-color: #FFFFFF;\n",
              "      --disabled-bg-color: #3B4455;\n",
              "      --disabled-fill-color: #666;\n",
              "  }\n",
              "\n",
              "  .colab-df-quickchart {\n",
              "    background-color: var(--bg-color);\n",
              "    border: none;\n",
              "    border-radius: 50%;\n",
              "    cursor: pointer;\n",
              "    display: none;\n",
              "    fill: var(--fill-color);\n",
              "    height: 32px;\n",
              "    padding: 0;\n",
              "    width: 32px;\n",
              "  }\n",
              "\n",
              "  .colab-df-quickchart:hover {\n",
              "    background-color: var(--hover-bg-color);\n",
              "    box-shadow: 0 1px 2px rgba(60, 64, 67, 0.3), 0 1px 3px 1px rgba(60, 64, 67, 0.15);\n",
              "    fill: var(--button-hover-fill-color);\n",
              "  }\n",
              "\n",
              "  .colab-df-quickchart-complete:disabled,\n",
              "  .colab-df-quickchart-complete:disabled:hover {\n",
              "    background-color: var(--disabled-bg-color);\n",
              "    fill: var(--disabled-fill-color);\n",
              "    box-shadow: none;\n",
              "  }\n",
              "\n",
              "  .colab-df-spinner {\n",
              "    border: 2px solid var(--fill-color);\n",
              "    border-color: transparent;\n",
              "    border-bottom-color: var(--fill-color);\n",
              "    animation:\n",
              "      spin 1s steps(1) infinite;\n",
              "  }\n",
              "\n",
              "  @keyframes spin {\n",
              "    0% {\n",
              "      border-color: transparent;\n",
              "      border-bottom-color: var(--fill-color);\n",
              "      border-left-color: var(--fill-color);\n",
              "    }\n",
              "    20% {\n",
              "      border-color: transparent;\n",
              "      border-left-color: var(--fill-color);\n",
              "      border-top-color: var(--fill-color);\n",
              "    }\n",
              "    30% {\n",
              "      border-color: transparent;\n",
              "      border-left-color: var(--fill-color);\n",
              "      border-top-color: var(--fill-color);\n",
              "      border-right-color: var(--fill-color);\n",
              "    }\n",
              "    40% {\n",
              "      border-color: transparent;\n",
              "      border-right-color: var(--fill-color);\n",
              "      border-top-color: var(--fill-color);\n",
              "    }\n",
              "    60% {\n",
              "      border-color: transparent;\n",
              "      border-right-color: var(--fill-color);\n",
              "    }\n",
              "    80% {\n",
              "      border-color: transparent;\n",
              "      border-right-color: var(--fill-color);\n",
              "      border-bottom-color: var(--fill-color);\n",
              "    }\n",
              "    90% {\n",
              "      border-color: transparent;\n",
              "      border-bottom-color: var(--fill-color);\n",
              "    }\n",
              "  }\n",
              "</style>\n",
              "\n",
              "  <script>\n",
              "    async function quickchart(key) {\n",
              "      const quickchartButtonEl =\n",
              "        document.querySelector('#' + key + ' button');\n",
              "      quickchartButtonEl.disabled = true;  // To prevent multiple clicks.\n",
              "      quickchartButtonEl.classList.add('colab-df-spinner');\n",
              "      try {\n",
              "        const charts = await google.colab.kernel.invokeFunction(\n",
              "            'suggestCharts', [key], {});\n",
              "      } catch (error) {\n",
              "        console.error('Error during call to suggestCharts:', error);\n",
              "      }\n",
              "      quickchartButtonEl.classList.remove('colab-df-spinner');\n",
              "      quickchartButtonEl.classList.add('colab-df-quickchart-complete');\n",
              "    }\n",
              "    (() => {\n",
              "      let quickchartButtonEl =\n",
              "        document.querySelector('#df-b048cfde-c730-499b-b0f4-9122b02cf7e2 button');\n",
              "      quickchartButtonEl.style.display =\n",
              "        google.colab.kernel.accessAllowed ? 'block' : 'none';\n",
              "    })();\n",
              "  </script>\n",
              "</div>\n",
              "    </div>\n",
              "  </div>\n"
            ]
          },
          "metadata": {},
          "execution_count": 2
        }
      ],
      "source": [
        "#importando biblioteca\n",
        "\n",
        "import pandas as pd\n",
        "\n",
        "loja_discos = pd.read_csv('loja_discos.csv', encoding=\"ISO-8859-1\")\n",
        "\n",
        "#conferindo dataframe gerado\n",
        "loja_discos.head()\n",
        "\n"
      ]
    },
    {
      "cell_type": "code",
      "execution_count": null,
      "id": "f655bd5c",
      "metadata": {
        "id": "f655bd5c"
      },
      "outputs": [],
      "source": []
    },
    {
      "cell_type": "markdown",
      "id": "d6f8649b",
      "metadata": {
        "id": "d6f8649b"
      },
      "source": [
        "### Insert"
      ]
    },
    {
      "cell_type": "code",
      "execution_count": 3,
      "id": "bc6cc8dc",
      "metadata": {
        "id": "bc6cc8dc",
        "outputId": "5d258f2c-d110-472c-ed7b-aee4f76f2045",
        "colab": {
          "base_uri": "https://localhost:8080/"
        }
      },
      "outputs": [
        {
          "output_type": "stream",
          "name": "stdout",
          "text": [
            "Vendas totais por Produto:\n",
            "categoria_produto\n",
            "Jazz/Hip Hop Internacional    2181.379064\n",
            "Música Brasileira             1182.601471\n",
            "Outros                        1313.793277\n",
            "Name: total_consumido, dtype: float64\n",
            "Vendas mensais:\n",
            "Mes\n",
            "1     896.937873\n",
            "2     266.106728\n",
            "3     427.055913\n",
            "4      59.184832\n",
            "5     326.105759\n",
            "6     924.737897\n",
            "7     258.407721\n",
            "8     636.047842\n",
            "9     243.513184\n",
            "10    342.769470\n",
            "12    296.906593\n",
            "Name: total_consumido, dtype: float64\n"
          ]
        }
      ],
      "source": [
        "#Calculando o Total de Vendas por Produto\n",
        "\n",
        "total_vendas_por_categoria = loja_discos.groupby('categoria_produto')['total_consumido'].sum()\n",
        "total_vendas_por_categoria.head()\n",
        "\n",
        "#Extraindo o mês da coluna \"data_ultima_compra\"\n",
        "\n",
        "loja_discos['Mes'] = pd.to_datetime(loja_discos['data_ultima_compra']).dt.month\n",
        "\n",
        "#Calculando o Total de vendas por Mês\n",
        "\n",
        "total_vendas_mes = loja_discos.groupby('Mes')['total_consumido'].sum()\n",
        "\n",
        "#Visualizando os resultados das transformações\n",
        "\n",
        "print('Vendas totais por Produto:')\n",
        "print(total_vendas_por_categoria)\n",
        "\n",
        "print('Vendas mensais:')\n",
        "print(total_vendas_mes)"
      ]
    },
    {
      "cell_type": "markdown",
      "id": "d29d1f27",
      "metadata": {
        "id": "d29d1f27"
      },
      "source": [
        "### Load"
      ]
    },
    {
      "cell_type": "code",
      "execution_count": 4,
      "id": "f67b1de7",
      "metadata": {
        "id": "f67b1de7",
        "outputId": "c39c4187-36e7-4491-a9c0-c83106e5a409",
        "colab": {
          "base_uri": "https://localhost:8080/",
          "height": 640
        }
      },
      "outputs": [
        {
          "output_type": "display_data",
          "data": {
            "text/plain": [
              "<Figure size 640x480 with 1 Axes>"
            ],
            "image/png": "[encoded data removed]"
          },
          "metadata": {}
        }
      ],
      "source": [
        "#Visualizando dados gerados\n",
        "\n",
        "import matplotlib.pyplot as plt\n",
        "\n",
        "# Criando Gráfico de Barras\n",
        "total_vendas_por_categoria.plot(kind='bar')\n",
        "plt.xlabel('Produto')\n",
        "plt.ylabel('Total de Vendas')\n",
        "plt.title('Total de Vendas por Produto')\n",
        "plt.show()\n"
      ]
    },
    {
      "cell_type": "code",
      "execution_count": 6,
      "id": "7bbf87b4",
      "metadata": {
        "id": "7bbf87b4",
        "outputId": "4d93e6d0-420e-4227-aaf5-938a57e6536b",
        "colab": {
          "base_uri": "https://localhost:8080/",
          "height": 476
        }
      },
      "outputs": [
        {
          "output_type": "display_data",
          "data": {
            "text/plain": [
              "<Figure size 640x480 with 1 Axes>"
            ],
            "image/png": "[encoded data removed]"
          },
          "metadata": {}
        }
      ],
      "source": [
        "#criando segundo gráfico de barras para melhor entendimento dos dados analisados\n",
        "\n",
        "total_vendas_mes.plot(kind='bar')\n",
        "plt.xlabel('Mês')\n",
        "plt.ylabel('Total de Vendas')\n",
        "plt.title('Total de Vendas por Mês')\n",
        "plt.show()"
      ]
    },
    {
      "cell_type": "code",
      "execution_count": null,
      "id": "f4757ab9",
      "metadata": {
        "id": "f4757ab9"
      },
      "outputs": [],
      "source": []
    }
  ],
  "metadata": {
    "kernelspec": {
      "display_name": "Python 3 (ipykernel)",
      "language": "python",
      "name": "python3"
    },
    "language_info": {
      "codemirror_mode": {
        "name": "ipython",
        "version": 3
      },
      "file_extension": ".py",
      "mimetype": "text/x-python",
      "name": "python",
      "nbconvert_exporter": "python",
      "pygments_lexer": "ipython3",
      "version": "3.10.9"
    },
    "colab": {
      "provenance": [],
      "include_colab_link": true
    }
  },
  "nbformat": 4,
  "nbformat_minor": 5
}